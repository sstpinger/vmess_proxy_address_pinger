{
  "cells": [
    {
      "cell_type": "code",
      "execution_count": null,
      "metadata": {
        "colab": {
          "base_uri": "https://localhost:8080/"
        },
        "id": "4hxV1JLELZjD",
        "outputId": "60d5c408-d51a-4500-f2b2-7de5561e3692"
      },
      "outputs": [],
      "source": [
        "!pip install requests"
      ]
    },
    {
      "cell_type": "code",
      "execution_count": null,
      "metadata": {
        "colab": {
          "base_uri": "https://localhost:8080/"
        },
        "id": "ZnWaVHKHLkY8",
        "outputId": "89732739-57c3-486a-8494-5c17515a9e22"
      },
      "outputs": [],
      "source": [
        "import requests\n",
        "from ipaddress import ip_network\n",
        "from concurrent.futures import ThreadPoolExecutor\n",
        "\n",
        "# List of CIDR ranges\n",
        "cidrs = [\n",
        "    '151.101.0.0/16',\n",
        "    '151.101.8.0/21',\n",
        "    '151.101.16.0/21',\n",
        "    '151.101.28.0/22',\n",
        "    '151.101.36.0/22',\n",
        "    '151.101.40.0/21',\n",
        "    '151.101.48.0/21',\n",
        "    '151.101.60.0/22',\n",
        "    '151.101.64.0/21',\n",
        "    '151.101.76.0/22',\n",
        "    '151.101.80.0/20',\n",
        "    '151.101.96.0/20',\n",
        "    '151.101.116.0/22',\n",
        "    '151.101.124.0/22',\n",
        "    '151.101.128.0/19',\n",
        "    '151.101.160.0/21',\n",
        "    '151.101.172.0/22',\n",
        "    '151.101.176.0/21',\n",
        "    '151.101.192.0/21',\n",
        "    '151.101.200.0/22',\n",
        "    '151.101.208.0/20',\n",
        "    '151.101.224.0/20',\n",
        "    '151.101.240.0/21',\n",
        "    '151.101.248.0/22',\n",
        "    '157.5.64.0/18',\n",
        "    '157.5.69.0/24',\n",
        "    '157.5.70.0/23',\n",
        "    '157.5.72.0/21',\n",
        "    '157.5.80.0/22',\n",
        "    '157.52.64.0/23',\n",
        "    '157.52.66.0/24',\n",
        "    '157.52.69.0/24',\n",
        "    '157.52.70.0/23',\n",
        "]\n",
        "\n",
        "# Function to check each IP\n",
        "def check_website(ip):\n",
        "    try:\n",
        "        response = requests.get(f\"http://{ip}\", timeout=10)  # Increased timeout for better handling\n",
        "        if response.status_code == 200:\n",
        "            return f\"Active website at {ip}\"\n",
        "        else:\n",
        "            return f\"Server responded at {ip}, status code: {response.status_code}\"\n",
        "    except requests.RequestException:\n",
        "        return f\"No response from {ip}\"\n",
        "\n",
        "# Using ThreadPoolExecutor to manage multiple threads\n",
        "def main():\n",
        "    with ThreadPoolExecutor(max_workers=10) as executor:  # Adjust max_workers depending on your CPU\n",
        "        for cidr in cidrs:\n",
        "            network = ip_network(cidr)\n",
        "            first_ip = next(network.hosts())  # Still using the first IP to demonstrate\n",
        "            future = executor.submit(check_website, str(first_ip))\n",
        "            print(future.result())\n",
        "\n",
        "if __name__ == \"__main__\":\n",
        "    main()"
      ]
    },
    {
      "cell_type": "code",
      "execution_count": null,
      "metadata": {
        "id": "OYGlx0gQRRs_"
      },
      "outputs": [],
      "source": [
        "import ipaddress\n",
        "import socket\n",
        "\n",
        "def reverse_dns_lookup(ip_range):\n",
        "    reverse_dns_entries = []\n",
        "    # Create an IPv4 network object from the range\n",
        "    network = ipaddress.ip_network(ip_range)\n",
        "    # Iterate through each IP in the range\n",
        "    for ip in network.hosts():  # .hosts() excludes network and broadcast addresses\n",
        "        try:\n",
        "            # Get the reverse DNS entry\n",
        "            host, _, _ = socket.gethostbyaddr(str(ip))\n",
        "            reverse_dns_entries.append((str(ip), host))\n",
        "        except socket.herror:  # Handle cases where no DNS entry is found\n",
        "            # reverse_dns_entries.append((str(ip), \"No reverse DNS entry found\"))\n",
        "            continue\n",
        "        except Exception as e:\n",
        "            # reverse_dns_entries.append((str(ip), str(e)))\n",
        "            continue\n",
        "    return reverse_dns_entries\n",
        "\n",
        "# Example usage\n",
        "ip_range = '151.101.64.0/21'  # You can replace this with any other range\n",
        "results = reverse_dns_lookup(ip_range)\n",
        "for ip, host in results:\n",
        "    print(ip, \"->\", host)"
      ]
    },
    {
      "cell_type": "code",
      "execution_count": null,
      "metadata": {
        "id": "T3OK0MVpVHbz"
      },
      "outputs": [],
      "source": [
        "import socket\n",
        "import ipaddress\n",
        "\n",
        "def check_port(ip, port=443, timeout=3):\n",
        "    s = socket.socket(socket.AF_INET, socket.SOCK_STREAM)\n",
        "    s.settimeout(timeout)\n",
        "    try:\n",
        "        # Attempt to connect to the IP and port\n",
        "        s.connect((ip, port))\n",
        "        s.close()\n",
        "        return True\n",
        "    except (socket.timeout, socket.error):\n",
        "        return False\n",
        "\n",
        "def list_open_ports(ip_range):\n",
        "    open_ips = []\n",
        "    # Create an IPv4 network object from the range\n",
        "    network = ipaddress.ip_network(ip_range)\n",
        "    # Iterate through each IP in the range\n",
        "    for ip in network.hosts():  # .hosts() excludes network and broadcast addresses\n",
        "        if check_port(str(ip)):\n",
        "            open_ips.append(str(ip))\n",
        "            print(f\"{ip} on port 443 is open\")\n",
        "        else:\n",
        "            print(f\"{ip} on port 443 is not open\")\n",
        "    return open_ips\n",
        "\n",
        "# Example usage\n",
        "ip_range = '151.101.64.0/21'  # Replace this with any other range\n",
        "open_ips = list_open_ports(ip_range)"
      ]
    },
    {
      "cell_type": "code",
      "execution_count": null,
      "metadata": {
        "id": "x2LlfiEJdMo6"
      },
      "outputs": [],
      "source": [
        "import ipaddress\n",
        "import socket\n",
        "import ssl\n",
        "\n",
        "def check_tls_connection(ip, port=443, timeout=3):\n",
        "    context = ssl.create_default_context()\n",
        "    context.check_hostname = False\n",
        "    context.verify_mode = ssl.CERT_NONE\n",
        "\n",
        "    try:\n",
        "        with socket.create_connection((ip, port), timeout=timeout) as sock:\n",
        "            with context.wrap_socket(sock, server_hostname=ip) as ssock:\n",
        "                # Try to complete the TLS handshake\n",
        "                ssock.do_handshake()\n",
        "                return True\n",
        "    except (ssl.SSLCertVerificationError, ssl.SSLError, socket.timeout):\n",
        "        # Handle SSL errors, timeouts, and certificate mismatches gracefully\n",
        "        return False\n",
        "    except (ConnectionResetError, OSError):\n",
        "        # Handle errors such as connection reset by peer or other OS-related network errors\n",
        "        return False\n",
        "    except Exception as e:\n",
        "        # General exception handling to catch anything unexpected\n",
        "        print(f\"An unexpected error occurred: {e}\")\n",
        "        return False\n",
        "\n",
        "def list_successful_tls_ips(ip_range):\n",
        "    successful_ips = []\n",
        "    network = ipaddress.ip_network(ip_range)\n",
        "    for ip in network.hosts():  # Exclude network and broadcast addresses\n",
        "        if check_tls_connection(str(ip)):\n",
        "            successful_ips.append(str(ip))\n",
        "            print(f\"Successful TLS connection at {ip}\")\n",
        "        # else:\n",
        "        #     print(f\"Failed TLS connection at {ip}\")\n",
        "    return successful_ips\n",
        "\n",
        "# Example usage\n",
        "ip_range = '151.101.64.0/21'  # Replace with your specific IP range\n",
        "successful_ips = list_successful_tls_ips(ip_range)"
      ]
    },
    {
      "cell_type": "code",
      "execution_count": null,
      "metadata": {
        "colab": {
          "base_uri": "https://localhost:8080/"
        },
        "id": "KJXtltEMfB8C",
        "outputId": "f0c341cd-16e5-4f61-a69c-963700e4c608"
      },
      "outputs": [],
      "source": [
        "!rm vmessping_amd64_linux.zip vmessping_amd64_linux.zip*\n",
        "!wget https://github.com/v2fly/vmessping/releases/download/v0.3.4/vmessping_amd64_linux.zip\n",
        "!unzip vmessping_amd64_linux.zip\n",
        "!mv vmessping_amd64_linux vmessping\n",
        "!ls -al"
      ]
    },
    {
      "cell_type": "code",
      "execution_count": null,
      "metadata": {
        "id": "7QFqXNJRfLBT"
      },
      "outputs": [],
      "source": [
        "!vmessping"
      ]
    },
    {
      "cell_type": "code",
      "execution_count": null,
      "metadata": {
        "colab": {
          "base_uri": "https://localhost:8080/"
        },
        "id": "xvSIOSjOAu0k",
        "outputId": "fc9ae33b-db71-4535-f6be-048d988e4a15"
      },
      "outputs": [],
      "source": [
        "from google.colab import drive\n",
        "drive.mount('/content/drive')"
      ]
    },
    {
      "cell_type": "code",
      "execution_count": 2,
      "metadata": {
        "id": "qQdmzi1GA7KZ"
      },
      "outputs": [],
      "source": [
        "!cp drive/MyDrive/go/vmessping_amd64_linux vmessping_amd64_linux"
      ]
    },
    {
      "cell_type": "code",
      "execution_count": null,
      "metadata": {
        "colab": {
          "base_uri": "https://localhost:8080/"
        },
        "id": "M9JSlEjkGEEb",
        "outputId": "e494e816-21bc-4c57-baec-498d101f9f01"
      },
      "outputs": [],
      "source": [
        "!chmod 765 /content/vmessping_amd64_linux\n",
        "!ls -l /content/vmessping_amd64_linux"
      ]
    },
    {
      "cell_type": "code",
      "execution_count": null,
      "metadata": {
        "id": "MBP9uURuBHx1"
      },
      "outputs": [],
      "source": [
        "import subprocess\n",
        "import json\n",
        "import base64\n",
        "import ipaddress\n",
        "\n",
        "def parse_vmess_uri(vmess_uri):\n",
        "    base64_string = vmess_uri[8:]\n",
        "    json_string = base64.urlsafe_b64decode(base64_string + '==').decode('utf-8')\n",
        "    return json.loads(json_string)\n",
        "\n",
        "def update_parameter(json_data, key, value):\n",
        "    json_data[key] = value\n",
        "    return json_data\n",
        "\n",
        "\n",
        "def update_proxy_address(config_data, new_address):\n",
        "    \"\"\"\n",
        "    Update the address parameter in the proxy configuration.\n",
        "\n",
        "    Args:\n",
        "    config_data (dict): The full configuration data as a Python dictionary.\n",
        "    new_address (str): The new proxy address to set.\n",
        "\n",
        "    Returns:\n",
        "    dict: Updated configuration data.\n",
        "    \"\"\"\n",
        "    # Navigate through the outbounds list\n",
        "    for outbound in config_data.get(\"outbounds\", []):\n",
        "        # Check if the outbound tag is 'proxy' and protocol is 'vmess'\n",
        "        if outbound.get(\"tag\") == \"proxy\" and outbound.get(\"protocol\") == \"vmess\":\n",
        "            # Access the 'vnext' list inside the 'settings' dict\n",
        "            vnext_list = outbound.get(\"settings\", {}).get(\"vnext\", [])\n",
        "            for vnext in vnext_list:\n",
        "                # Update the address\n",
        "                vnext[\"address\"] = new_address\n",
        "    return config_data\n",
        "\n",
        "def generate_vmess_uri(json_data):\n",
        "    json_string = json.dumps(json_data)\n",
        "    base64_string = base64.urlsafe_b64encode(json_string.encode('utf-8')).decode('utf-8').rstrip('=')\n",
        "    return f\"vmess://{base64_string}\"\n",
        "\n",
        "def check_vmess_ping(vmess_uri):\n",
        "    # Use the correct command format as per your example\n",
        "    command = f\"./vmessping_amd64_linux -c 1 -allow-insecure {vmess_uri}\"\n",
        "    try:\n",
        "        # Run the command and capture the output\n",
        "        result = subprocess.run(command, shell=True, text=True, capture_output=True, check=False)\n",
        "        # print(result.stdout)  # Display the full output for debugging or information\n",
        "        if \"0 success\" in result.stdout:\n",
        "            return False\n",
        "        return True\n",
        "    except subprocess.CalledProcessError as e:\n",
        "        # print(\"Failed to run vmessping:\", e)\n",
        "        return False\n",
        "\n",
        "# Example usage\n",
        "vmess_uri = \"vmess://...\"\n",
        "ip_range = '140.248.88.0/22'  # Replace with your specific IP range\n",
        "# ip_range = '151.101.64.0/21'  # Replace with your specific IP range\n",
        "# Create an IPv4 network object from the range\n",
        "network = ipaddress.ip_network(ip_range)\n",
        "# Iterate through each IP in the range\n",
        "for ip in network.hosts():  # .hosts() excludes network and broadcast addresses\n",
        "    data = parse_vmess_uri(vmess_uri)\n",
        "    updated_data = update_parameter(data, 'add', str(ip))\n",
        "    # updated_data = update_proxy_address(data, '151.101.64.81')\n",
        "    new_vmess_uri = generate_vmess_uri(updated_data)\n",
        "\n",
        "    # Check if the VMess URI is pingable\n",
        "    is_pingable = check_vmess_ping(new_vmess_uri)\n",
        "    if is_pingable:\n",
        "        print(str(ip))\n",
        "        # print(\"Is VMess URI pingable?\", is_pingable)"
      ]
    },
    {
      "cell_type": "code",
      "execution_count": null,
      "metadata": {
        "id": "HI46aHy2Dj4P"
      },
      "outputs": [],
      "source": [
        "!sudo /content/vmessping_amd64_linux -c 1 -allow-insecure vmess://eyJhZGQiOiJ0b3Quc3Bpa2VzZXJ2aWNlLm9ubGluZSIsImFpZCI6IjAiLCJhbHBuIjoiIiwiZnAiOiJyYW5kb21pemVkIiwiaG9zdCI6ImRvbS5nYW5nby5vbmxpbmUiLCJpZCI6ImEzZmVmYWEyLTJkM2YtNDc5Zi05NmViLWM2OTc0ZGFkMGRkOSIsIm5ldCI6IndzIiwicGF0aCI6Ii92bWVzcyIsInBvcnQiOiI0NDMiLCJwcyI6ImF0YWdlbGRpIiwic2N5IjoiYXV0byIsInNuaSI6Ind3dy5nb29nbGUuY29tIiwidGxzIjoidGxzIiwidHlwZSI6IiIsInYiOiIyIn0="
      ]
    }
  ],
  "metadata": {
    "colab": {
      "provenance": []
    },
    "kernelspec": {
      "display_name": "Python 3",
      "name": "python3"
    },
    "language_info": {
      "name": "python"
    }
  },
  "nbformat": 4,
  "nbformat_minor": 0
}
